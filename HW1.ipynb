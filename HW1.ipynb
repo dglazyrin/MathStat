{
 "cells": [
  {
   "cell_type": "code",
   "execution_count": 27,
   "id": "e09dd08a",
   "metadata": {},
   "outputs": [
    {
     "data": {
      "text/plain": [
       "0.26410564225690275"
      ]
     },
     "execution_count": 27,
     "metadata": {},
     "output_type": "execute_result"
    }
   ],
   "source": [
    "#1. Из колоды в 52 карты извлекаются случайным образом 4 карты.\n",
    "# Найти вероятность того, что все карты – крести.\n",
    "t1=13/52\n",
    "t2=12/51\n",
    "t3=11/50\n",
    "t4=10/49\n",
    "T=t1*t2*t3*t4*100\n",
    "T\n",
    "#Ответ: вероятность того что все четыре карты будут крести - 0,26%"
   ]
  },
  {
   "cell_type": "code",
   "execution_count": 26,
   "id": "a17b86e6",
   "metadata": {},
   "outputs": [
    {
     "data": {
      "text/plain": [
       "6.8235294117647065"
      ]
     },
     "execution_count": 26,
     "metadata": {},
     "output_type": "execute_result"
    }
   ],
   "source": [
    "#Найти вероятность, что среди 4-х карт окажется хотя бы один туз.\n",
    "#Один туз\n",
    "t1nt3=4/52*48/51*47/50*46/49\n",
    "t2nt2=4/52*3/51*48/50*47/49\n",
    "t3nt1=4/52*3/51*2/50*48/49\n",
    "t4nt0=4/52*3/51*2/50*1/49\n",
    "T4=(t1nt3+t2nt2+t3nt1+t4nt0)*100\n",
    "T4\n",
    "#Ответ: вероятность, что среди этих карт окажется хотя бы один туз - 6,82%"
   ]
  },
  {
   "cell_type": "code",
   "execution_count": 25,
   "id": "a0f3f09f",
   "metadata": {},
   "outputs": [
    {
     "data": {
      "text/plain": [
       "0.8333333333333334"
      ]
     },
     "execution_count": 25,
     "metadata": {},
     "output_type": "execute_result"
    }
   ],
   "source": [
    "#На входной двери подъезда установлен кодовый замок, содержащий десять кнопок с цифрами от 0 до 9.\n",
    "#Код содержит три цифры, которые нужно нажать одновременно.\n",
    "#Какова вероятность того, что человек, не знающий код, откроет дверь с первой попытки?\n",
    "from math import factorial\n",
    "def combinations(n, k):\n",
    "    return factorial(n) / (factorial(n - k) * factorial(k))\n",
    "n = combinations(10, 3)\n",
    "100/n\n",
    "#Ответ: вероятность того, что человек, не знающий код, откроет дверь с первой попытки - 0,83%"
   ]
  },
  {
   "cell_type": "code",
   "execution_count": 28,
   "id": "9a408453",
   "metadata": {},
   "outputs": [
    {
     "data": {
      "text/plain": [
       "18.461538461538456"
      ]
     },
     "execution_count": 28,
     "metadata": {},
     "output_type": "execute_result"
    }
   ],
   "source": [
    "#В ящике имеется 15 деталей, из которых 9 окрашены.\n",
    "#Рабочий случайным образом извлекает 3 детали.\n",
    "#Какова вероятность того, что все извлеченные детали окрашены?\n",
    "d1=9/15\n",
    "d2=8/14\n",
    "d3=7/13\n",
    "D3=d1*d2*d3*100\n",
    "D3\n",
    "#Ответ: вероятность того, что все извлеченные детали окрашены - 18,46%"
   ]
  },
  {
   "cell_type": "code",
   "execution_count": 29,
   "id": "cf03a638",
   "metadata": {},
   "outputs": [
    {
     "data": {
      "text/plain": [
       "0.020202020202020204"
      ]
     },
     "execution_count": 29,
     "metadata": {},
     "output_type": "execute_result"
    }
   ],
   "source": [
    "#В лотерее 100 билетов. Из них 2 выигрышных. Какова вероятность того, что 2 приобретенных билета окажутся выигрышными?\n",
    "b1=2/100\n",
    "b2=1/99\n",
    "B2=b1*b2*100\n",
    "B2\n",
    "#Ответ: вероятность того, что 2 приобретенных билета окажутся выигрышными - 0,02%"
   ]
  }
 ],
 "metadata": {
  "kernelspec": {
   "display_name": "Python 3 (ipykernel)",
   "language": "python",
   "name": "python3"
  },
  "language_info": {
   "codemirror_mode": {
    "name": "ipython",
    "version": 3
   },
   "file_extension": ".py",
   "mimetype": "text/x-python",
   "name": "python",
   "nbconvert_exporter": "python",
   "pygments_lexer": "ipython3",
   "version": "3.10.9"
  }
 },
 "nbformat": 4,
 "nbformat_minor": 5
}
