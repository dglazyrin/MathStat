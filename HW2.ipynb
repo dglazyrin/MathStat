{
 "cells": [
  {
   "cell_type": "code",
   "execution_count": 14,
   "id": "e09dd08a",
   "metadata": {},
   "outputs": [
    {
     "data": {
      "text/plain": [
       "0.048061793700746355"
      ]
     },
     "execution_count": 14,
     "metadata": {},
     "output_type": "execute_result"
    }
   ],
   "source": [
    "# Вероятность того, что стрелок попадет в мишень, выстрелив один раз, равна 0.8.\n",
    "# Стрелок выстрелил 100 раз. Найдите вероятность того, что стрелок попадет в цель ровно 85 раз.\n",
    "\n",
    "import numpy as np\n",
    "from math import factorial as fact\n",
    "\n",
    "def combinations(x,y):\n",
    "    return fact(x)/(fact(y)*fact(x-y))\n",
    "\n",
    "def bernully(x,y,z):\n",
    "    return combinations(y,z)*x**(z)*(1-x)**(y-z)\n",
    "\n",
    "bernully(0.8, 100, 85)\n",
    "\n",
    "# Ответ: вероятность того, что стрелок попадет в цель ровно 85 раз - 0,048%"
   ]
  },
  {
   "cell_type": "code",
   "execution_count": 19,
   "id": "a17b86e6",
   "metadata": {},
   "outputs": [
    {
     "data": {
      "text/plain": [
       "0.1353352832366127"
      ]
     },
     "execution_count": 19,
     "metadata": {},
     "output_type": "execute_result"
    }
   ],
   "source": [
    "# Вероятность того, что лампочка перегорит в течение первого дня эксплуатации, равна 0.0004.\n",
    "# В жилом комплексе после ремонта в один день включили 5000 новых лампочек.\n",
    "# Какова вероятность, что ни одна из них не перегорит в первый день?\n",
    "\n",
    "def puasson(x,y):\n",
    "    return x**y/fact(y)*np.exp(-x)\n",
    "\n",
    "puasson(5000*0.0004, 0)\n",
    "\n",
    "# Ответ: вероятность, что ни одна из них не перегорит в первый день - 0,135%\n"
   ]
  },
  {
   "cell_type": "code",
   "execution_count": 23,
   "id": "cf94c1f4",
   "metadata": {},
   "outputs": [
    {
     "data": {
      "text/plain": [
       "0.2706705664732254"
      ]
     },
     "execution_count": 23,
     "metadata": {},
     "output_type": "execute_result"
    }
   ],
   "source": [
    "puasson(5000*0.0004, 2)\n",
    "\n",
    "# Ответ: вероятность, что перегорят две - 0,27%\n",
    "# Не очень понял почему вероятность сжечь две лампочки в два раза выше вероятности не сжечь ни одну. Ну ладно."
   ]
  },
  {
   "cell_type": "code",
   "execution_count": 26,
   "id": "a0f3f09f",
   "metadata": {},
   "outputs": [
    {
     "data": {
      "text/plain": [
       "0.06281178035144776"
      ]
     },
     "execution_count": 26,
     "metadata": {},
     "output_type": "execute_result"
    }
   ],
   "source": [
    "# Монету подбросили 144 раза. Какова вероятность, что орел выпадет ровно 70 раз?\n",
    "bernully(0.5, 144, 70)\n",
    "# Ответ: вероятность того, что орел выпадет ровно 70 раз - 0,063%"
   ]
  },
  {
   "cell_type": "code",
   "execution_count": 37,
   "id": "9a408453",
   "metadata": {},
   "outputs": [
    {
     "data": {
      "text/plain": [
       "30.545454545454543"
      ]
     },
     "execution_count": 37,
     "metadata": {},
     "output_type": "execute_result"
    }
   ],
   "source": [
    "# В первом ящике находится 10 мячей, из которых 7 - белые. Во втором ящике - 11 мячей, из которых 9 белых.\n",
    "# Из каждого ящика вытаскивают случайным образом по два мяча. Какова вероятность того, что все мячи белые?\n",
    "\n",
    "m11=7/10\n",
    "m12=6/9\n",
    "m21=9/11\n",
    "m22=8/10\n",
    "MW=m11*m12*m21*m22*100\n",
    "MW\n",
    "\n",
    "# Ответ: вероятность того, что все мячи белые - 30,54%"
   ]
  },
  {
   "cell_type": "code",
   "execution_count": 44,
   "id": "7dfbbc25",
   "metadata": {},
   "outputs": [
    {
     "data": {
      "text/plain": [
       "0.20484848484848484"
      ]
     },
     "execution_count": 44,
     "metadata": {},
     "output_type": "execute_result"
    }
   ],
   "source": [
    "# Какова вероятность того, что ровно два мяча белые?\n",
    "m1=7/10*6/9*2/11*1/10\n",
    "m2=7/10*3/9*9/11*2/10\n",
    "m3=7/10*3/9*2/11*9/10\n",
    "m4=3/10*7/9*9/11*2/10\n",
    "m5=3/10*7/9*2/11*9/10\n",
    "m6=3/10*2/9*9/11*8/10\n",
    "\n",
    "M2W=m1+m2+m3+m4+m5+m6\n",
    "M2W\n",
    "\n",
    "# Ответ: вероятность того, что ровно два мяча белые - 20,48%"
   ]
  },
  {
   "cell_type": "code",
   "execution_count": 46,
   "id": "f9a7e6b6",
   "metadata": {},
   "outputs": [
    {
     "data": {
      "text/plain": [
       "0.9987878787878788"
      ]
     },
     "execution_count": 46,
     "metadata": {},
     "output_type": "execute_result"
    }
   ],
   "source": [
    "# Какова вероятность того, что хотя бы один мяч белый?\n",
    "m1b=1-3/10*2/9*2/11*1/10\n",
    "m1b\n",
    "# Ответ: вероятность того, что хотя бы один мяч белый - 99,87%"
   ]
  }
 ],
 "metadata": {
  "kernelspec": {
   "display_name": "Python 3 (ipykernel)",
   "language": "python",
   "name": "python3"
  },
  "language_info": {
   "codemirror_mode": {
    "name": "ipython",
    "version": 3
   },
   "file_extension": ".py",
   "mimetype": "text/x-python",
   "name": "python",
   "nbconvert_exporter": "python",
   "pygments_lexer": "ipython3",
   "version": "3.10.9"
  }
 },
 "nbformat": 4,
 "nbformat_minor": 5
}
